{
 "cells": [
  {
   "cell_type": "code",
   "execution_count": 1,
   "metadata": {
    "ExecuteTime": {
     "end_time": "2020-04-21T20:18:45.255049Z",
     "start_time": "2020-04-21T20:18:44.276390Z"
    }
   },
   "outputs": [],
   "source": [
    "import pandas as pd\n",
    "import numpy as np\n",
    "from sklearn.ensemble import RandomForestClassifier\n",
    "from sklearn.model_selection import train_test_split\n",
    "from sklearn.metrics import accuracy_score\n",
    "from sklearn.model_selection import cross_val_score\n",
    "from matplotlib import pyplot as plt\n",
    "from rfpimp import *\n",
    "from collections import Counter\n",
    "import warnings\n",
    "warnings.filterwarnings(\"ignore\")"
   ]
  },
  {
   "cell_type": "markdown",
   "metadata": {},
   "source": [
    "## Data import"
   ]
  },
  {
   "cell_type": "code",
   "execution_count": 2,
   "metadata": {
    "ExecuteTime": {
     "end_time": "2020-04-21T20:18:45.283711Z",
     "start_time": "2020-04-21T20:18:45.257012Z"
    }
   },
   "outputs": [],
   "source": [
    "# Real links\n",
    "fin = pd.read_csv('data/Real_links.csv')"
   ]
  },
  {
   "cell_type": "code",
   "execution_count": 3,
   "metadata": {
    "ExecuteTime": {
     "end_time": "2020-04-21T20:18:45.310117Z",
     "start_time": "2020-04-21T20:18:45.285643Z"
    }
   },
   "outputs": [],
   "source": [
    "# Fake links\n",
    "file = pd.read_csv('data/fake_all.csv')"
   ]
  },
  {
   "cell_type": "code",
   "execution_count": 4,
   "metadata": {
    "ExecuteTime": {
     "end_time": "2020-04-21T20:18:45.323477Z",
     "start_time": "2020-04-21T20:18:45.311689Z"
    }
   },
   "outputs": [
    {
     "data": {
      "text/html": [
       "<div>\n",
       "<style scoped>\n",
       "    .dataframe tbody tr th:only-of-type {\n",
       "        vertical-align: middle;\n",
       "    }\n",
       "\n",
       "    .dataframe tbody tr th {\n",
       "        vertical-align: top;\n",
       "    }\n",
       "\n",
       "    .dataframe thead th {\n",
       "        text-align: right;\n",
       "    }\n",
       "</style>\n",
       "<table border=\"1\" class=\"dataframe\">\n",
       "  <thead>\n",
       "    <tr style=\"text-align: right;\">\n",
       "      <th></th>\n",
       "      <th>0</th>\n",
       "      <th>1</th>\n",
       "      <th>2</th>\n",
       "      <th>3</th>\n",
       "      <th>4</th>\n",
       "      <th>5</th>\n",
       "      <th>6</th>\n",
       "      <th>7</th>\n",
       "      <th>8</th>\n",
       "      <th>9</th>\n",
       "    </tr>\n",
       "  </thead>\n",
       "  <tbody>\n",
       "    <tr>\n",
       "      <th>0</th>\n",
       "      <td>addictinginfo</td>\n",
       "      <td>independent</td>\n",
       "      <td>theweek</td>\n",
       "      <td>businessinsider</td>\n",
       "      <td>express</td>\n",
       "      <td>google</td>\n",
       "      <td>NaN</td>\n",
       "      <td>NaN</td>\n",
       "      <td>NaN</td>\n",
       "      <td>NaN</td>\n",
       "    </tr>\n",
       "    <tr>\n",
       "      <th>1</th>\n",
       "      <td>nytimes</td>\n",
       "      <td>vox</td>\n",
       "      <td>addictinginfo</td>\n",
       "      <td>nbcnews</td>\n",
       "      <td>whatthefuckjusthappenedtoday</td>\n",
       "      <td>theguardian</td>\n",
       "      <td>cnn</td>\n",
       "      <td>wikipedia</td>\n",
       "      <td>factcheck</td>\n",
       "      <td>thehill</td>\n",
       "    </tr>\n",
       "    <tr>\n",
       "      <th>2</th>\n",
       "      <td>addictinginfo</td>\n",
       "      <td>wikipedia</td>\n",
       "      <td>newsweek</td>\n",
       "      <td>milwaukeemag</td>\n",
       "      <td>pinterest</td>\n",
       "      <td>opensecrets</td>\n",
       "      <td>nationalmemo</td>\n",
       "      <td>reverseshot</td>\n",
       "      <td>amgreatness</td>\n",
       "      <td>google</td>\n",
       "    </tr>\n",
       "    <tr>\n",
       "      <th>3</th>\n",
       "      <td>newsweek</td>\n",
       "      <td>theatlantic</td>\n",
       "      <td>nationalreview</td>\n",
       "      <td>nytimes</td>\n",
       "      <td>nymag</td>\n",
       "      <td>theguardian</td>\n",
       "      <td>wikipedia</td>\n",
       "      <td>wikipedia</td>\n",
       "      <td>whitehouse</td>\n",
       "      <td>nbcnews</td>\n",
       "    </tr>\n",
       "    <tr>\n",
       "      <th>4</th>\n",
       "      <td>nytimes</td>\n",
       "      <td>theguardian</td>\n",
       "      <td>npr</td>\n",
       "      <td>washingtontimes</td>\n",
       "      <td>washingtontimes</td>\n",
       "      <td>wsj</td>\n",
       "      <td>wsj</td>\n",
       "      <td>cnn</td>\n",
       "      <td>newsweek</td>\n",
       "      <td>dailymail</td>\n",
       "    </tr>\n",
       "  </tbody>\n",
       "</table>\n",
       "</div>"
      ],
      "text/plain": [
       "               0            1               2                3  \\\n",
       "0  addictinginfo  independent         theweek  businessinsider   \n",
       "1        nytimes          vox   addictinginfo          nbcnews   \n",
       "2  addictinginfo    wikipedia        newsweek     milwaukeemag   \n",
       "3       newsweek  theatlantic  nationalreview          nytimes   \n",
       "4        nytimes  theguardian             npr  washingtontimes   \n",
       "\n",
       "                              4            5             6            7  \\\n",
       "0                       express       google           NaN          NaN   \n",
       "1  whatthefuckjusthappenedtoday  theguardian           cnn    wikipedia   \n",
       "2                     pinterest  opensecrets  nationalmemo  reverseshot   \n",
       "3                         nymag  theguardian     wikipedia    wikipedia   \n",
       "4               washingtontimes          wsj           wsj          cnn   \n",
       "\n",
       "             8          9  \n",
       "0          NaN        NaN  \n",
       "1    factcheck    thehill  \n",
       "2  amgreatness     google  \n",
       "3   whitehouse    nbcnews  \n",
       "4     newsweek  dailymail  "
      ]
     },
     "execution_count": 4,
     "metadata": {},
     "output_type": "execute_result"
    }
   ],
   "source": [
    "file.head()"
   ]
  },
  {
   "cell_type": "code",
   "execution_count": 5,
   "metadata": {
    "ExecuteTime": {
     "end_time": "2020-04-21T20:18:45.327176Z",
     "start_time": "2020-04-21T20:18:45.324542Z"
    }
   },
   "outputs": [],
   "source": [
    "file['label'] = 0"
   ]
  },
  {
   "cell_type": "code",
   "execution_count": 6,
   "metadata": {
    "ExecuteTime": {
     "end_time": "2020-04-21T20:18:45.343617Z",
     "start_time": "2020-04-21T20:18:45.328268Z"
    }
   },
   "outputs": [],
   "source": [
    "combined = pd.concat([fin,file])\n",
    "combined = combined.fillna('Unknown')"
   ]
  },
  {
   "cell_type": "code",
   "execution_count": 7,
   "metadata": {
    "ExecuteTime": {
     "end_time": "2020-04-21T20:18:45.354720Z",
     "start_time": "2020-04-21T20:18:45.344824Z"
    }
   },
   "outputs": [
    {
     "data": {
      "text/html": [
       "<div>\n",
       "<style scoped>\n",
       "    .dataframe tbody tr th:only-of-type {\n",
       "        vertical-align: middle;\n",
       "    }\n",
       "\n",
       "    .dataframe tbody tr th {\n",
       "        vertical-align: top;\n",
       "    }\n",
       "\n",
       "    .dataframe thead th {\n",
       "        text-align: right;\n",
       "    }\n",
       "</style>\n",
       "<table border=\"1\" class=\"dataframe\">\n",
       "  <thead>\n",
       "    <tr style=\"text-align: right;\">\n",
       "      <th></th>\n",
       "      <th>0</th>\n",
       "      <th>1</th>\n",
       "      <th>2</th>\n",
       "      <th>3</th>\n",
       "      <th>4</th>\n",
       "      <th>5</th>\n",
       "      <th>6</th>\n",
       "      <th>7</th>\n",
       "      <th>8</th>\n",
       "      <th>9</th>\n",
       "      <th>label</th>\n",
       "    </tr>\n",
       "  </thead>\n",
       "  <tbody>\n",
       "    <tr>\n",
       "      <th>0</th>\n",
       "      <td>bbc</td>\n",
       "      <td>reuters</td>\n",
       "      <td>youtube</td>\n",
       "      <td>youtube</td>\n",
       "      <td>jpost</td>\n",
       "      <td>newsweek</td>\n",
       "      <td>nytimes</td>\n",
       "      <td>expressdigest</td>\n",
       "      <td>investing</td>\n",
       "      <td>wetinhappen</td>\n",
       "      <td>1</td>\n",
       "    </tr>\n",
       "    <tr>\n",
       "      <th>1</th>\n",
       "      <td>reuters</td>\n",
       "      <td>jpost</td>\n",
       "      <td>refworld</td>\n",
       "      <td>wikipedia</td>\n",
       "      <td>aljazeera</td>\n",
       "      <td>npr</td>\n",
       "      <td>theguardian</td>\n",
       "      <td>cbsnews</td>\n",
       "      <td>cfr</td>\n",
       "      <td>wsj</td>\n",
       "      <td>1</td>\n",
       "    </tr>\n",
       "    <tr>\n",
       "      <th>2</th>\n",
       "      <td>reuters</td>\n",
       "      <td>wikipedia</td>\n",
       "      <td>wikipedia</td>\n",
       "      <td>antiwar</td>\n",
       "      <td>dailymail</td>\n",
       "      <td>google</td>\n",
       "      <td>theautomaticearth</td>\n",
       "      <td>crediblecarbon</td>\n",
       "      <td>hurriyetdailynews</td>\n",
       "      <td>theguardian</td>\n",
       "      <td>1</td>\n",
       "    </tr>\n",
       "    <tr>\n",
       "      <th>3</th>\n",
       "      <td>reuters</td>\n",
       "      <td>reddit</td>\n",
       "      <td>nytimes</td>\n",
       "      <td>nytimes</td>\n",
       "      <td>cnn</td>\n",
       "      <td>theatlantic</td>\n",
       "      <td>newyorker</td>\n",
       "      <td>bbc</td>\n",
       "      <td>scmp</td>\n",
       "      <td>business-standard</td>\n",
       "      <td>1</td>\n",
       "    </tr>\n",
       "    <tr>\n",
       "      <th>4</th>\n",
       "      <td>reuters</td>\n",
       "      <td>nytimes</td>\n",
       "      <td>wikipedia</td>\n",
       "      <td>go</td>\n",
       "      <td>irishtimes</td>\n",
       "      <td>twitter</td>\n",
       "      <td>theguardian</td>\n",
       "      <td>wsj</td>\n",
       "      <td>dailymail</td>\n",
       "      <td>dw</td>\n",
       "      <td>1</td>\n",
       "    </tr>\n",
       "  </tbody>\n",
       "</table>\n",
       "</div>"
      ],
      "text/plain": [
       "         0          1          2          3           4            5  \\\n",
       "0      bbc    reuters    youtube    youtube       jpost     newsweek   \n",
       "1  reuters      jpost   refworld  wikipedia   aljazeera          npr   \n",
       "2  reuters  wikipedia  wikipedia    antiwar   dailymail       google   \n",
       "3  reuters     reddit    nytimes    nytimes         cnn  theatlantic   \n",
       "4  reuters    nytimes  wikipedia         go  irishtimes      twitter   \n",
       "\n",
       "                   6               7                  8                  9  \\\n",
       "0            nytimes   expressdigest          investing        wetinhappen   \n",
       "1        theguardian         cbsnews                cfr                wsj   \n",
       "2  theautomaticearth  crediblecarbon  hurriyetdailynews        theguardian   \n",
       "3          newyorker             bbc               scmp  business-standard   \n",
       "4        theguardian             wsj          dailymail                 dw   \n",
       "\n",
       "   label  \n",
       "0      1  \n",
       "1      1  \n",
       "2      1  \n",
       "3      1  \n",
       "4      1  "
      ]
     },
     "execution_count": 7,
     "metadata": {},
     "output_type": "execute_result"
    }
   ],
   "source": [
    "combined.head()"
   ]
  },
  {
   "cell_type": "code",
   "execution_count": 8,
   "metadata": {
    "ExecuteTime": {
     "end_time": "2020-04-21T20:18:45.359083Z",
     "start_time": "2020-04-21T20:18:45.355898Z"
    }
   },
   "outputs": [],
   "source": [
    "def flatten(X):\n",
    "    \"\"\"\n",
    "    function to flatten a list\n",
    "    \"\"\"\n",
    "    flat_list = []\n",
    "    for sublist in X.values:\n",
    "        for item in sublist:\n",
    "            flat_list.append(item)\n",
    "    return flat_list"
   ]
  },
  {
   "cell_type": "code",
   "execution_count": 9,
   "metadata": {
    "ExecuteTime": {
     "end_time": "2020-04-21T20:18:45.363675Z",
     "start_time": "2020-04-21T20:18:45.360291Z"
    }
   },
   "outputs": [],
   "source": [
    "def plot(flat_list):\n",
    "    \"\"\"\n",
    "    function to plot bar chart\n",
    "    \"\"\"\n",
    "    l1 =[]\n",
    "    l2 = []\n",
    "    for i in Counter(flat_list).most_common(15):\n",
    "        l1.append(i[0])\n",
    "        l2.append(i[1])\n",
    "    plt.bar(l1,l2)\n",
    "    plt.xticks(rotation=90)"
   ]
  },
  {
   "cell_type": "code",
   "execution_count": 10,
   "metadata": {
    "ExecuteTime": {
     "end_time": "2020-04-21T20:18:45.372651Z",
     "start_time": "2020-04-21T20:18:45.365153Z"
    }
   },
   "outputs": [],
   "source": [
    "real = combined.loc[combined['label']==1]\n",
    "real = real.iloc[:,:-1]\n",
    "fake = combined.loc[combined['label']==0]\n",
    "fake = fake.iloc[:,:-1]"
   ]
  },
  {
   "cell_type": "markdown",
   "metadata": {},
   "source": [
    "## EDA"
   ]
  },
  {
   "cell_type": "markdown",
   "metadata": {},
   "source": [
    "## Real Links"
   ]
  },
  {
   "cell_type": "code",
   "execution_count": 11,
   "metadata": {
    "ExecuteTime": {
     "end_time": "2020-04-21T20:18:45.589444Z",
     "start_time": "2020-04-21T20:18:45.375762Z"
    }
   },
   "outputs": [
    {
     "data": {
      "image/png": "[encoded data removed]",
      "text/plain": [
       "<Figure size 432x288 with 1 Axes>"
      ]
     },
     "metadata": {
      "needs_background": "light"
     },
     "output_type": "display_data"
    }
   ],
   "source": [
    "plot(flatten(real))"
   ]
  },
  {
   "cell_type": "markdown",
   "metadata": {},
   "source": [
    "## Fake Links"
   ]
  },
  {
   "cell_type": "code",
   "execution_count": 12,
   "metadata": {
    "ExecuteTime": {
     "end_time": "2020-04-21T20:18:45.791906Z",
     "start_time": "2020-04-21T20:18:45.591081Z"
    }
   },
   "outputs": [
    {
     "data": {
      "image/png": "[encoded data removed]",
      "text/plain": [
       "<Figure size 432x288 with 1 Axes>"
      ]
     },
     "metadata": {
      "needs_background": "light"
     },
     "output_type": "display_data"
    }
   ],
   "source": [
    "plot(flatten(fake))"
   ]
  },
  {
   "cell_type": "code",
   "execution_count": 13,
   "metadata": {
    "ExecuteTime": {
     "end_time": "2020-04-21T20:18:45.883986Z",
     "start_time": "2020-04-21T20:18:45.793151Z"
    }
   },
   "outputs": [],
   "source": [
    "# Combined csv\n",
    "combined.to_csv('Training_data.csv', index=False)"
   ]
  },
  {
   "cell_type": "code",
   "execution_count": 14,
   "metadata": {
    "ExecuteTime": {
     "end_time": "2020-04-21T20:18:45.889734Z",
     "start_time": "2020-04-21T20:18:45.885697Z"
    }
   },
   "outputs": [],
   "source": [
    "y = combined['label']\n",
    "X = combined[['0', '1', '2', '3', '4', '5', '6', '7', '8', '9']]"
   ]
  },
  {
   "cell_type": "code",
   "execution_count": 15,
   "metadata": {
    "ExecuteTime": {
     "end_time": "2020-04-21T20:18:45.924648Z",
     "start_time": "2020-04-21T20:18:45.890860Z"
    }
   },
   "outputs": [],
   "source": [
    "flat_list = flatten(X)"
   ]
  },
  {
   "cell_type": "code",
   "execution_count": 16,
   "metadata": {
    "ExecuteTime": {
     "end_time": "2020-04-21T20:18:46.388321Z",
     "start_time": "2020-04-21T20:18:45.926193Z"
    }
   },
   "outputs": [],
   "source": [
    "# Encoding\n",
    "links = list(set(flat_list))\n",
    "links_dict = {links[i]:i for i in range(len(links))}\n",
    "for i in X.columns:\n",
    "    X[i] = X[i].apply(lambda x: links_dict[x])"
   ]
  },
  {
   "cell_type": "code",
   "execution_count": 17,
   "metadata": {
    "ExecuteTime": {
     "end_time": "2020-04-21T20:18:46.400152Z",
     "start_time": "2020-04-21T20:18:46.390189Z"
    }
   },
   "outputs": [
    {
     "data": {
      "text/html": [
       "<div>\n",
       "<style scoped>\n",
       "    .dataframe tbody tr th:only-of-type {\n",
       "        vertical-align: middle;\n",
       "    }\n",
       "\n",
       "    .dataframe tbody tr th {\n",
       "        vertical-align: top;\n",
       "    }\n",
       "\n",
       "    .dataframe thead th {\n",
       "        text-align: right;\n",
       "    }\n",
       "</style>\n",
       "<table border=\"1\" class=\"dataframe\">\n",
       "  <thead>\n",
       "    <tr style=\"text-align: right;\">\n",
       "      <th></th>\n",
       "      <th>0</th>\n",
       "      <th>1</th>\n",
       "      <th>2</th>\n",
       "      <th>3</th>\n",
       "      <th>4</th>\n",
       "      <th>5</th>\n",
       "      <th>6</th>\n",
       "      <th>7</th>\n",
       "      <th>8</th>\n",
       "      <th>9</th>\n",
       "    </tr>\n",
       "  </thead>\n",
       "  <tbody>\n",
       "    <tr>\n",
       "      <th>0</th>\n",
       "      <td>10062</td>\n",
       "      <td>230</td>\n",
       "      <td>761</td>\n",
       "      <td>761</td>\n",
       "      <td>759</td>\n",
       "      <td>7329</td>\n",
       "      <td>747</td>\n",
       "      <td>3372</td>\n",
       "      <td>10357</td>\n",
       "      <td>1171</td>\n",
       "    </tr>\n",
       "    <tr>\n",
       "      <th>1</th>\n",
       "      <td>230</td>\n",
       "      <td>759</td>\n",
       "      <td>806</td>\n",
       "      <td>7841</td>\n",
       "      <td>8711</td>\n",
       "      <td>3938</td>\n",
       "      <td>8583</td>\n",
       "      <td>7334</td>\n",
       "      <td>4570</td>\n",
       "      <td>2790</td>\n",
       "    </tr>\n",
       "    <tr>\n",
       "      <th>2</th>\n",
       "      <td>230</td>\n",
       "      <td>7841</td>\n",
       "      <td>7841</td>\n",
       "      <td>6407</td>\n",
       "      <td>9132</td>\n",
       "      <td>7245</td>\n",
       "      <td>2540</td>\n",
       "      <td>10842</td>\n",
       "      <td>2435</td>\n",
       "      <td>8583</td>\n",
       "    </tr>\n",
       "    <tr>\n",
       "      <th>3</th>\n",
       "      <td>230</td>\n",
       "      <td>8053</td>\n",
       "      <td>747</td>\n",
       "      <td>747</td>\n",
       "      <td>2909</td>\n",
       "      <td>10441</td>\n",
       "      <td>4596</td>\n",
       "      <td>10062</td>\n",
       "      <td>6460</td>\n",
       "      <td>6472</td>\n",
       "    </tr>\n",
       "    <tr>\n",
       "      <th>4</th>\n",
       "      <td>230</td>\n",
       "      <td>747</td>\n",
       "      <td>7841</td>\n",
       "      <td>4095</td>\n",
       "      <td>7436</td>\n",
       "      <td>10010</td>\n",
       "      <td>8583</td>\n",
       "      <td>2790</td>\n",
       "      <td>9132</td>\n",
       "      <td>2713</td>\n",
       "    </tr>\n",
       "  </tbody>\n",
       "</table>\n",
       "</div>"
      ],
      "text/plain": [
       "       0     1     2     3     4      5     6      7      8     9\n",
       "0  10062   230   761   761   759   7329   747   3372  10357  1171\n",
       "1    230   759   806  7841  8711   3938  8583   7334   4570  2790\n",
       "2    230  7841  7841  6407  9132   7245  2540  10842   2435  8583\n",
       "3    230  8053   747   747  2909  10441  4596  10062   6460  6472\n",
       "4    230   747  7841  4095  7436  10010  8583   2790   9132  2713"
      ]
     },
     "execution_count": 17,
     "metadata": {},
     "output_type": "execute_result"
    }
   ],
   "source": [
    "X.head()"
   ]
  },
  {
   "cell_type": "markdown",
   "metadata": {},
   "source": [
    "## Model - RF"
   ]
  },
  {
   "cell_type": "code",
   "execution_count": 18,
   "metadata": {
    "ExecuteTime": {
     "end_time": "2020-04-21T20:18:46.408886Z",
     "start_time": "2020-04-21T20:18:46.401497Z"
    }
   },
   "outputs": [],
   "source": [
    "X_train, X_test, y_train, y_test = train_test_split(X, y, test_size=0.3, random_state=42)"
   ]
  },
  {
   "cell_type": "code",
   "execution_count": 19,
   "metadata": {
    "ExecuteTime": {
     "end_time": "2020-04-21T20:18:46.877688Z",
     "start_time": "2020-04-21T20:18:46.410475Z"
    }
   },
   "outputs": [
    {
     "data": {
      "text/plain": [
       "RandomForestClassifier(bootstrap=True, class_weight=None, criterion='gini',\n",
       "                       max_depth=None, max_features='auto', max_leaf_nodes=None,\n",
       "                       min_impurity_decrease=0.0, min_impurity_split=None,\n",
       "                       min_samples_leaf=5, min_samples_split=2,\n",
       "                       min_weight_fraction_leaf=0.0, n_estimators=100,\n",
       "                       n_jobs=-1, oob_score=True, random_state=42, verbose=0,\n",
       "                       warm_start=False)"
      ]
     },
     "execution_count": 19,
     "metadata": {},
     "output_type": "execute_result"
    }
   ],
   "source": [
    "model = RandomForestClassifier(n_estimators=100, bootstrap=True, min_samples_leaf = 5,\n",
    "                               random_state=42, n_jobs = -1, oob_score= True)\n",
    "model.fit(X_train,y_train)"
   ]
  },
  {
   "cell_type": "code",
   "execution_count": 20,
   "metadata": {
    "ExecuteTime": {
     "end_time": "2020-04-21T20:18:46.987318Z",
     "start_time": "2020-04-21T20:18:46.878805Z"
    }
   },
   "outputs": [],
   "source": [
    "y_pred = model.predict(X_test)"
   ]
  },
  {
   "cell_type": "code",
   "execution_count": 21,
   "metadata": {
    "ExecuteTime": {
     "end_time": "2020-04-21T20:18:46.994203Z",
     "start_time": "2020-04-21T20:18:46.989379Z"
    }
   },
   "outputs": [
    {
     "data": {
      "text/plain": [
       "0.9813888888888889"
      ]
     },
     "execution_count": 21,
     "metadata": {},
     "output_type": "execute_result"
    }
   ],
   "source": [
    "accuracy_score(y_test,y_pred)"
   ]
  },
  {
   "cell_type": "markdown",
   "metadata": {
    "ExecuteTime": {
     "end_time": "2020-04-21T18:41:21.010423Z",
     "start_time": "2020-04-21T18:41:21.008241Z"
    }
   },
   "source": [
    "## Cross-validation"
   ]
  },
  {
   "cell_type": "code",
   "execution_count": 22,
   "metadata": {
    "ExecuteTime": {
     "end_time": "2020-04-21T20:18:57.053290Z",
     "start_time": "2020-04-21T20:18:46.995374Z"
    }
   },
   "outputs": [],
   "source": [
    "scores = cross_val_score(model, X, y, cv=5)"
   ]
  },
  {
   "cell_type": "code",
   "execution_count": 23,
   "metadata": {
    "ExecuteTime": {
     "end_time": "2020-04-21T20:18:57.059544Z",
     "start_time": "2020-04-21T20:18:57.055219Z"
    }
   },
   "outputs": [
    {
     "data": {
      "text/plain": [
       "array([0.98625   , 0.98479167, 0.98041667, 0.978125  , 0.97875   ])"
      ]
     },
     "execution_count": 23,
     "metadata": {},
     "output_type": "execute_result"
    }
   ],
   "source": [
    "scores"
   ]
  },
  {
   "cell_type": "markdown",
   "metadata": {},
   "source": [
    "## Feature importance"
   ]
  },
  {
   "cell_type": "code",
   "execution_count": 24,
   "metadata": {
    "ExecuteTime": {
     "end_time": "2020-04-21T20:18:58.388616Z",
     "start_time": "2020-04-21T20:18:57.060879Z"
    }
   },
   "outputs": [
    {
     "data": {
      "image/png": "[encoded data removed]",
      "text/plain": [
       "<Figure size 288x159.84 with 1 Axes>"
      ]
     },
     "metadata": {
      "needs_background": "light"
     },
     "output_type": "display_data"
    }
   ],
   "source": [
    "imp = importances(model, X_test, y_test, n_samples=-1)\n",
    "viz = plot_importances(imp)\n",
    "viz.view()"
   ]
  },
  {
   "cell_type": "code",
   "execution_count": null,
   "metadata": {},
   "outputs": [],
   "source": []
  }
 ],
 "metadata": {
  "gist": {
   "data": {
    "description": "Desktop/Product Analytics/Links files/Merge csv-Copy1.ipynb",
    "public": false
   },
   "id": ""
  },
  "kernelspec": {
   "display_name": "Python 3",
   "language": "python",
   "name": "python3"
  },
  "language_info": {
   "codemirror_mode": {
    "name": "ipython",
    "version": 3
   },
   "file_extension": ".py",
   "mimetype": "text/x-python",
   "name": "python",
   "nbconvert_exporter": "python",
   "pygments_lexer": "ipython3",
   "version": "3.7.3"
  }
 },
 "nbformat": 4,
 "nbformat_minor": 2
}
